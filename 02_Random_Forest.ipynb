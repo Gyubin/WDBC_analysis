{
 "cells": [
  {
   "cell_type": "markdown",
   "metadata": {},
   "source": [
    "# 2. Random forest"
   ]
  },
  {
   "cell_type": "code",
   "execution_count": 1,
   "metadata": {},
   "outputs": [],
   "source": [
    "import numpy as np\n",
    "\n",
    "from sklearn import ensemble, tree\n",
    "from sklearn.model_selection import train_test_split, cross_val_score\n",
    "import pydotplus\n",
    "\n",
    "from reader import Reader"
   ]
  },
  {
   "cell_type": "code",
   "execution_count": 2,
   "metadata": {},
   "outputs": [],
   "source": [
    "my_reader = Reader()\n",
    "X, y, data_id = my_reader.get_entire_data()"
   ]
  },
  {
   "cell_type": "markdown",
   "metadata": {},
   "source": [
    "## 2.1 단일 Decision tree 사용\n",
    "\n",
    "단일 tree를 사용하면 평균 91.7% accuracy를 보인다.(최대 깊이를 3으로 제한했다.)"
   ]
  },
  {
   "cell_type": "code",
   "execution_count": 3,
   "metadata": {},
   "outputs": [],
   "source": [
    "clf_tree = tree.DecisionTreeClassifier(max_depth=3)\n",
    "tree_scores = cross_val_score(clf_tree, X, y, cv=5)"
   ]
  },
  {
   "cell_type": "code",
   "execution_count": 4,
   "metadata": {},
   "outputs": [
    {
     "name": "stdout",
     "output_type": "stream",
     "text": [
      "Each tree errors: [ 0.91304348  0.93043478  0.92920354  0.94690265  0.89380531]\n",
      "Mean tree error: 0.9226779530588688\n"
     ]
    }
   ],
   "source": [
    "print('Each tree errors: {}'.format(tree_scores))\n",
    "print('Mean tree error: {}'.format(tree_scores.mean()))"
   ]
  },
  {
   "cell_type": "code",
   "execution_count": 5,
   "metadata": {},
   "outputs": [],
   "source": [
    "import re\n",
    "\n",
    "# id, diagnosis 제외\n",
    "feature_string = \"\"\"\n",
    "radius_mean,texture_mean,perimeter_mean,\n",
    "area_mean,smoothness_mean,compactness_mean,concavity_mean,\n",
    "concave points_mean,symmetry_mean,fractal_dimension_mean,\n",
    "radius_se,texture_se,perimeter_se,area_se,smoothness_se,\n",
    "compactness_se,concavity_se,concave points_se,symmetry_se,\n",
    "fractal_dimension_se,radius_worst,texture_worst,perimeter_worst,\n",
    "area_worst,smoothness_worst,compactness_worst,concavity_worst,\n",
    "concave points_worst,symmetry_worst,fractal_dimension_worst\n",
    "\"\"\"\n",
    "feature_string = re.sub('\\n', '', feature_string)\n",
    "features = feature_string.split(',')"
   ]
  },
  {
   "cell_type": "code",
   "execution_count": 6,
   "metadata": {},
   "outputs": [
    {
     "data": {
      "text/plain": [
       "True"
      ]
     },
     "execution_count": 6,
     "metadata": {},
     "output_type": "execute_result"
    }
   ],
   "source": [
    "clf_tree.fit(X, y)\n",
    "dot_data = tree.export_graphviz(clf_tree, out_file=None, feature_names=features)\n",
    "graph = pydotplus.graph_from_dot_data(dot_data) \n",
    "graph.write_png(\"single_tree.png\")"
   ]
  },
  {
   "cell_type": "markdown",
   "metadata": {},
   "source": [
    "graphviz를 활용해서 만들어진 tree를 이미지로 볼 수 있다.\n",
    "\n",
    "![tree_graph](single_tree.png)"
   ]
  },
  {
   "cell_type": "markdown",
   "metadata": {},
   "source": [
    "## 2.2 Random forest 사용\n",
    "\n",
    "단일 tree보다 조금 더 좋아졌다. 평균 94.6% accuracy"
   ]
  },
  {
   "cell_type": "code",
   "execution_count": 7,
   "metadata": {},
   "outputs": [],
   "source": [
    "clf_rf = ensemble.RandomForestClassifier()\n",
    "rf_scores = cross_val_score(clf_rf, X, y, cv=5)"
   ]
  },
  {
   "cell_type": "code",
   "execution_count": 8,
   "metadata": {},
   "outputs": [
    {
     "name": "stdout",
     "output_type": "stream",
     "text": [
      "Each tree errors: [ 0.90434783  0.93043478  0.96460177  0.97345133  0.97345133]\n",
      "Mean tree error: 0.9492574066948827\n"
     ]
    }
   ],
   "source": [
    "print('Each tree errors: {}'.format(rf_scores))\n",
    "print('Mean tree error: {}'.format(rf_scores.mean()))"
   ]
  },
  {
   "cell_type": "code",
   "execution_count": null,
   "metadata": {},
   "outputs": [],
   "source": []
  }
 ],
 "metadata": {
  "kernelspec": {
   "display_name": "Python 3",
   "language": "python",
   "name": "python3"
  },
  "language_info": {
   "codemirror_mode": {
    "name": "ipython",
    "version": 3
   },
   "file_extension": ".py",
   "mimetype": "text/x-python",
   "name": "python",
   "nbconvert_exporter": "python",
   "pygments_lexer": "ipython3",
   "version": "3.6.2"
  }
 },
 "nbformat": 4,
 "nbformat_minor": 2
}
