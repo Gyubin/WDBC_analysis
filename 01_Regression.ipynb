{
 "cells": [
  {
   "cell_type": "markdown",
   "metadata": {},
   "source": [
    "# 1. Regression"
   ]
  },
  {
   "cell_type": "code",
   "execution_count": 1,
   "metadata": {},
   "outputs": [],
   "source": [
    "import numpy as np\n",
    "\n",
    "from sklearn import linear_model\n",
    "from sklearn.model_selection import train_test_split, cross_val_score\n",
    "from reader import Reader"
   ]
  },
  {
   "cell_type": "code",
   "execution_count": 2,
   "metadata": {},
   "outputs": [],
   "source": [
    "my_reader = Reader()\n",
    "X, y, data_id = my_reader.get_entire_data()"
   ]
  },
  {
   "cell_type": "markdown",
   "metadata": {},
   "source": [
    "## 1.1 Linear regression\n",
    "\n",
    "classification 문제에선 잘 안된다.\n",
    "\n",
    "평균 70.5% accuracy를 보임."
   ]
  },
  {
   "cell_type": "code",
   "execution_count": 3,
   "metadata": {},
   "outputs": [
    {
     "name": "stderr",
     "output_type": "stream",
     "text": [
      "/Users/qbinson/.virtualenvs/fira/lib/python3.6/site-packages/scipy/linalg/basic.py:1018: RuntimeWarning: internal gelsd driver lwork query error, required iwork dimension not returned. This is likely the result of LAPACK bug 0038, fixed in LAPACK 3.2.2 (released July 21, 2010). Falling back to 'gelss' driver.\n",
      "  warnings.warn(mesg, RuntimeWarning)\n"
     ]
    }
   ],
   "source": [
    "regr_linear = linear_model.LinearRegression()\n",
    "linear_scores = cross_val_score(regr_linear, X, y, cv=5)"
   ]
  },
  {
   "cell_type": "code",
   "execution_count": 4,
   "metadata": {},
   "outputs": [
    {
     "name": "stdout",
     "output_type": "stream",
     "text": [
      "Each linear errors: [ 0.62359509  0.69896145  0.7559333   0.77302059  0.67192043]\n",
      "Mean linear error: 0.704686173464428\n"
     ]
    }
   ],
   "source": [
    "print('Each linear errors: {}'.format(linear_scores))\n",
    "print('Mean linear error: {}'.format(linear_scores.mean()))"
   ]
  },
  {
   "cell_type": "markdown",
   "metadata": {
    "collapsed": true
   },
   "source": [
    "## 1.2 Logistic regression\n",
    "\n",
    "classification에서 주로 쓰는 Logistic regression. WDBC 데이터가 binary 문제라서 딱 알맞다.\n",
    "\n",
    "평균 95.1% accuracy."
   ]
  },
  {
   "cell_type": "code",
   "execution_count": 5,
   "metadata": {},
   "outputs": [],
   "source": [
    "regr_logistic = linear_model.LogisticRegression()\n",
    "logistic_scores = cross_val_score(regr_logistic, X, y, cv=5)"
   ]
  },
  {
   "cell_type": "code",
   "execution_count": 6,
   "metadata": {},
   "outputs": [
    {
     "name": "stdout",
     "output_type": "stream",
     "text": [
      "Each logistic errors: [ 0.93043478  0.93913043  0.97345133  0.94690265  0.96460177]\n",
      "Mean logistic error: 0.9509041939207385\n"
     ]
    }
   ],
   "source": [
    "print('Each logistic errors: {}'.format(logistic_scores))\n",
    "print('Mean logistic error: {}'.format(logistic_scores.mean()))"
   ]
  },
  {
   "cell_type": "markdown",
   "metadata": {},
   "source": [
    "## ETC\n",
    "\n",
    "전체 데이터에 대해 coefficients와 intercept를 확인 차 측정해보면 다음과 같다."
   ]
  },
  {
   "cell_type": "code",
   "execution_count": 7,
   "metadata": {},
   "outputs": [],
   "source": [
    "regr_logistic = linear_model.LogisticRegression()\n",
    "_ = regr_logistic.fit(X, y)"
   ]
  },
  {
   "cell_type": "code",
   "execution_count": 8,
   "metadata": {},
   "outputs": [
    {
     "data": {
      "text/plain": [
       "array([[-2.17360074, -0.11636704,  0.07556054,  0.00304466,  0.16791291,\n",
       "         0.4101081 ,  0.67678692,  0.36840251,  0.24356015,  0.02423563,\n",
       "         0.02539364, -1.23905946, -0.03795555,  0.09679011,  0.01911825,\n",
       "        -0.02018555,  0.03649954,  0.04312542,  0.0431077 , -0.00907112,\n",
       "        -1.26671115,  0.34337088,  0.12225922,  0.02443607,  0.3120361 ,\n",
       "         1.13639747,  1.63527916,  0.70707455,  0.73468401,  0.11240998]])"
      ]
     },
     "execution_count": 8,
     "metadata": {},
     "output_type": "execute_result"
    }
   ],
   "source": [
    "regr_logistic.coef_"
   ]
  },
  {
   "cell_type": "code",
   "execution_count": 9,
   "metadata": {},
   "outputs": [
    {
     "data": {
      "text/plain": [
       "array([-0.41786418])"
      ]
     },
     "execution_count": 9,
     "metadata": {},
     "output_type": "execute_result"
    }
   ],
   "source": [
    "regr_logistic.intercept_"
   ]
  },
  {
   "cell_type": "code",
   "execution_count": null,
   "metadata": {},
   "outputs": [],
   "source": []
  }
 ],
 "metadata": {
  "kernelspec": {
   "display_name": "Python 3",
   "language": "python",
   "name": "python3"
  },
  "language_info": {
   "codemirror_mode": {
    "name": "ipython",
    "version": 3
   },
   "file_extension": ".py",
   "mimetype": "text/x-python",
   "name": "python",
   "nbconvert_exporter": "python",
   "pygments_lexer": "ipython3",
   "version": "3.6.2"
  }
 },
 "nbformat": 4,
 "nbformat_minor": 2
}
