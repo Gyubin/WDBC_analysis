{
 "cells": [
  {
   "cell_type": "markdown",
   "metadata": {},
   "source": [
    "# 3. Deep NN"
   ]
  },
  {
   "cell_type": "code",
   "execution_count": 1,
   "metadata": {},
   "outputs": [],
   "source": [
    "import tensorflow as tf\n",
    "import numpy as np\n",
    "\n",
    "from reader import Reader\n",
    "\n",
    "def reset_graph(seed=42):\n",
    "    tf.reset_default_graph()\n",
    "    tf.set_random_seed(seed)\n",
    "    np.random.seed(seed)"
   ]
  },
  {
   "cell_type": "markdown",
   "metadata": {},
   "source": [
    "## 3.1 Data\n",
    "\n",
    "5 fold cross validation 사용"
   ]
  },
  {
   "cell_type": "code",
   "execution_count": 2,
   "metadata": {},
   "outputs": [],
   "source": [
    "my_reader = Reader()\n",
    "X_data, y_data, id_data = my_reader.get_entire_data()"
   ]
  },
  {
   "cell_type": "code",
   "execution_count": 3,
   "metadata": {},
   "outputs": [],
   "source": [
    "# 5 fold\n",
    "X_splited = np.array_split(X_data, 5)\n",
    "y_splited = np.array_split(y_data, 5)\n",
    "folds_X = []\n",
    "folds_y = []\n",
    "for idx in range(5):\n",
    "    tmp_train_X = np.concatenate(np.delete(X_splited, idx, axis=0))\n",
    "    tmp_val_X = X_splited[idx]\n",
    "    folds_X.append((tmp_train_X, tmp_val_X))\n",
    "    \n",
    "    tmp_train_y = np.concatenate(np.delete(y_splited, idx, axis=0))\n",
    "    tmp_val_y = y_splited[idx]\n",
    "    folds_y.append((tmp_train_y, tmp_val_y))"
   ]
  },
  {
   "cell_type": "markdown",
   "metadata": {},
   "source": [
    "## 3.2 Model\n",
    "\n",
    "- he initializer 사용\n",
    "- ReLU 사용\n",
    "- 구성: 30 neurons, 1 hidden layer"
   ]
  },
  {
   "cell_type": "code",
   "execution_count": 4,
   "metadata": {},
   "outputs": [],
   "source": [
    "reset_graph()\n",
    "\n",
    "he_init = tf.contrib.layers.variance_scaling_initializer() # he initializer\n",
    "\n",
    "# dnn model: 100 neurons for each 5 hidden layers\n",
    "def dnn(inputs, n_hidden_layers=1, n_neurons=50, name=None,\n",
    "        activation=tf.nn.relu, initializer=he_init):\n",
    "    with tf.variable_scope(name, \"dnn\"):\n",
    "        for layer in range(n_hidden_layers):\n",
    "            inputs = tf.layers.dense(inputs, n_neurons, activation=activation,\n",
    "                                     kernel_initializer=initializer,\n",
    "                                     name=\"hidden%d\" % (layer + 1))\n",
    "        return inputs"
   ]
  },
  {
   "cell_type": "code",
   "execution_count": 5,
   "metadata": {},
   "outputs": [],
   "source": [
    "n_inputs = 30 # 30 features\n",
    "n_outputs = 2 # M, B\n",
    "\n",
    "X = tf.placeholder(tf.float32, shape=(None, n_inputs), name=\"X\")\n",
    "y = tf.placeholder(tf.int64, shape=(None), name=\"y\")\n",
    "\n",
    "dnn_outputs = dnn(X)\n",
    "\n",
    "logits = tf.layers.dense(dnn_outputs, n_outputs, kernel_initializer=he_init, name=\"logits\")\n",
    "Y_proba = tf.nn.softmax(logits, name=\"Y_proba\")"
   ]
  },
  {
   "cell_type": "markdown",
   "metadata": {},
   "source": [
    "- learning rate : 0.01\n",
    "- loss : cross entropy 사용\n",
    "- optimizer : Adam\n",
    "- top 1 rate 사용"
   ]
  },
  {
   "cell_type": "code",
   "execution_count": 6,
   "metadata": {},
   "outputs": [],
   "source": [
    "learning_rate = 0.01\n",
    "\n",
    "# entropy as loss\n",
    "xentropy = tf.nn.sparse_softmax_cross_entropy_with_logits(labels=y, logits=logits)\n",
    "loss = tf.reduce_mean(xentropy, name=\"loss\")\n",
    "\n",
    "# Adam optimizer minimizes loss\n",
    "optimizer = tf.train.AdamOptimizer(learning_rate)\n",
    "training_op = optimizer.minimize(loss, name=\"training_op\")\n",
    "\n",
    "# top 1 rate\n",
    "correct = tf.nn.in_top_k(logits, y, 1)\n",
    "accuracy = tf.reduce_mean(tf.cast(correct, tf.float32), name=\"accuracy\")\n",
    "\n",
    "init = tf.global_variables_initializer()\n",
    "saver = tf.train.Saver()"
   ]
  },
  {
   "cell_type": "markdown",
   "metadata": {},
   "source": [
    "## 3.3 Training\n",
    "\n",
    "- Early stopping : loss를 더 줄이지 못한채 학습하는 epoch이 내가 설정한 횟수(20) 이상이 되면 멈춘다.\n",
    "- 최고 accuracy가 나왔을 때 Saver를 활용해서 그 때의 weight 값을 저장해둔다. epoch이 끝났을 때 최고 weight를 불러와서 전체 training data에 적용해서 accuracy 측정\n",
    "- 5 fold로 아래 코드의 data_idx를 0에서 4까지 바꿔가며 학습해보았다.\n",
    "    + 0: 95.61%\n",
    "    + 1: 92.98%\n",
    "    + 2: 96.49%\n",
    "    + 3: 96.49%\n",
    "    + 4: 96.46%\n",
    "- 평균 accuracy : 95.61%"
   ]
  },
  {
   "cell_type": "code",
   "execution_count": 7,
   "metadata": {},
   "outputs": [
    {
     "name": "stdout",
     "output_type": "stream",
     "text": [
      "0\tValidation loss: 8.145627\tBest loss: 8.145627\tAccuracy: 28.32%\n",
      "1\tValidation loss: 3.066642\tBest loss: 3.066642\tAccuracy: 75.22%\n",
      "2\tValidation loss: 1.739892\tBest loss: 1.739892\tAccuracy: 90.27%\n",
      "3\tValidation loss: 3.785741\tBest loss: 1.739892\tAccuracy: 73.45%\n",
      "4\tValidation loss: 4.017633\tBest loss: 1.739892\tAccuracy: 92.04%\n",
      "5\tValidation loss: 3.721571\tBest loss: 1.739892\tAccuracy: 78.76%\n",
      "6\tValidation loss: 1.606835\tBest loss: 1.606835\tAccuracy: 89.38%\n",
      "7\tValidation loss: 2.187651\tBest loss: 1.606835\tAccuracy: 92.92%\n",
      "8\tValidation loss: 9.062175\tBest loss: 1.606835\tAccuracy: 61.95%\n",
      "9\tValidation loss: 5.888136\tBest loss: 1.606835\tAccuracy: 72.57%\n",
      "10\tValidation loss: 3.866019\tBest loss: 1.606835\tAccuracy: 92.04%\n",
      "11\tValidation loss: 2.347405\tBest loss: 1.606835\tAccuracy: 91.15%\n",
      "12\tValidation loss: 2.138622\tBest loss: 1.606835\tAccuracy: 90.27%\n",
      "13\tValidation loss: 2.824863\tBest loss: 1.606835\tAccuracy: 84.07%\n",
      "14\tValidation loss: 7.700356\tBest loss: 1.606835\tAccuracy: 61.06%\n",
      "15\tValidation loss: 1.794592\tBest loss: 1.606835\tAccuracy: 93.81%\n",
      "16\tValidation loss: 1.980088\tBest loss: 1.606835\tAccuracy: 85.84%\n",
      "17\tValidation loss: 1.399952\tBest loss: 1.399952\tAccuracy: 89.38%\n",
      "18\tValidation loss: 1.039239\tBest loss: 1.039239\tAccuracy: 90.27%\n",
      "19\tValidation loss: 4.126210\tBest loss: 1.039239\tAccuracy: 92.04%\n",
      "20\tValidation loss: 2.995958\tBest loss: 1.039239\tAccuracy: 93.81%\n",
      "21\tValidation loss: 2.403436\tBest loss: 1.039239\tAccuracy: 93.81%\n",
      "22\tValidation loss: 1.789817\tBest loss: 1.039239\tAccuracy: 93.81%\n",
      "23\tValidation loss: 1.926019\tBest loss: 1.039239\tAccuracy: 92.04%\n",
      "24\tValidation loss: 1.799642\tBest loss: 1.039239\tAccuracy: 91.15%\n",
      "25\tValidation loss: 2.199881\tBest loss: 1.039239\tAccuracy: 93.81%\n",
      "26\tValidation loss: 1.699347\tBest loss: 1.039239\tAccuracy: 93.81%\n",
      "27\tValidation loss: 1.088610\tBest loss: 1.039239\tAccuracy: 92.04%\n",
      "28\tValidation loss: 1.104838\tBest loss: 1.039239\tAccuracy: 92.92%\n",
      "29\tValidation loss: 4.551464\tBest loss: 1.039239\tAccuracy: 71.68%\n",
      "30\tValidation loss: 0.806953\tBest loss: 0.806953\tAccuracy: 92.04%\n",
      "31\tValidation loss: 1.135931\tBest loss: 0.806953\tAccuracy: 93.81%\n",
      "32\tValidation loss: 2.764088\tBest loss: 0.806953\tAccuracy: 92.04%\n",
      "33\tValidation loss: 1.094296\tBest loss: 0.806953\tAccuracy: 92.92%\n",
      "34\tValidation loss: 1.226942\tBest loss: 0.806953\tAccuracy: 92.04%\n",
      "35\tValidation loss: 3.349951\tBest loss: 0.806953\tAccuracy: 79.65%\n",
      "36\tValidation loss: 1.027711\tBest loss: 0.806953\tAccuracy: 93.81%\n",
      "37\tValidation loss: 0.986823\tBest loss: 0.806953\tAccuracy: 92.92%\n",
      "38\tValidation loss: 0.923788\tBest loss: 0.806953\tAccuracy: 91.15%\n",
      "39\tValidation loss: 0.512281\tBest loss: 0.512281\tAccuracy: 93.81%\n",
      "40\tValidation loss: 0.643965\tBest loss: 0.512281\tAccuracy: 93.81%\n",
      "41\tValidation loss: 2.480088\tBest loss: 0.512281\tAccuracy: 92.04%\n",
      "42\tValidation loss: 0.712278\tBest loss: 0.512281\tAccuracy: 93.81%\n",
      "43\tValidation loss: 0.345796\tBest loss: 0.345796\tAccuracy: 93.81%\n",
      "44\tValidation loss: 2.357051\tBest loss: 0.345796\tAccuracy: 76.11%\n",
      "45\tValidation loss: 0.724320\tBest loss: 0.345796\tAccuracy: 92.04%\n",
      "46\tValidation loss: 0.530734\tBest loss: 0.345796\tAccuracy: 91.15%\n",
      "47\tValidation loss: 0.533464\tBest loss: 0.345796\tAccuracy: 90.27%\n",
      "48\tValidation loss: 0.181565\tBest loss: 0.181565\tAccuracy: 96.46%\n",
      "49\tValidation loss: 3.890393\tBest loss: 0.181565\tAccuracy: 57.52%\n",
      "50\tValidation loss: 0.509110\tBest loss: 0.181565\tAccuracy: 94.69%\n",
      "51\tValidation loss: 1.271328\tBest loss: 0.181565\tAccuracy: 84.07%\n",
      "52\tValidation loss: 0.428175\tBest loss: 0.181565\tAccuracy: 94.69%\n",
      "53\tValidation loss: 0.308707\tBest loss: 0.181565\tAccuracy: 95.58%\n",
      "54\tValidation loss: 0.294363\tBest loss: 0.181565\tAccuracy: 94.69%\n",
      "55\tValidation loss: 1.214542\tBest loss: 0.181565\tAccuracy: 79.65%\n",
      "56\tValidation loss: 4.967118\tBest loss: 0.181565\tAccuracy: 53.10%\n",
      "57\tValidation loss: 1.393484\tBest loss: 0.181565\tAccuracy: 81.42%\n",
      "58\tValidation loss: 0.341039\tBest loss: 0.181565\tAccuracy: 93.81%\n",
      "59\tValidation loss: 5.646529\tBest loss: 0.181565\tAccuracy: 52.21%\n",
      "60\tValidation loss: 1.794201\tBest loss: 0.181565\tAccuracy: 81.42%\n",
      "61\tValidation loss: 0.419814\tBest loss: 0.181565\tAccuracy: 93.81%\n",
      "62\tValidation loss: 1.999652\tBest loss: 0.181565\tAccuracy: 76.11%\n",
      "63\tValidation loss: 0.906560\tBest loss: 0.181565\tAccuracy: 94.69%\n",
      "64\tValidation loss: 0.891080\tBest loss: 0.181565\tAccuracy: 92.04%\n",
      "65\tValidation loss: 4.005008\tBest loss: 0.181565\tAccuracy: 63.72%\n",
      "66\tValidation loss: 2.554999\tBest loss: 0.181565\tAccuracy: 76.99%\n",
      "67\tValidation loss: 1.701219\tBest loss: 0.181565\tAccuracy: 84.96%\n",
      "68\tValidation loss: 4.960381\tBest loss: 0.181565\tAccuracy: 59.29%\n",
      "Early stopping!\n",
      "INFO:tensorflow:Restoring parameters from ./dnn_checkpoints/wdbc.ckpt\n",
      "Final test accuracy: 96.46%\n"
     ]
    }
   ],
   "source": [
    "data_idx = 4 # Check 0 to 4\n",
    "kfold_data_X = folds_X[data_idx]\n",
    "kfold_data_y = folds_y[data_idx]\n",
    "n_epochs = 1000\n",
    "batch_size = 20 # mini batch size\n",
    "\n",
    "max_checks_without_progress = 20\n",
    "checks_without_progress = 0\n",
    "best_loss = np.infty\n",
    "\n",
    "with tf.Session() as sess:\n",
    "    init.run()\n",
    "\n",
    "    for epoch in range(n_epochs):\n",
    "        rnd_idx = np.random.permutation(len(kfold_data_X[0])) # 숫자만큼 인덱스 랜덤 정렬\n",
    "        for rnd_indices in np.array_split(rnd_idx, len(kfold_data_X[0]) // batch_size): # rnd_idx 리스트를 둘째 매개변수 개수만큼으로 쪼갬\n",
    "            X_batch, y_batch = kfold_data_X[0][rnd_indices], kfold_data_y[0][rnd_indices] # 쪼갠걸로 그 때 그 때 배치 만들고 학습\n",
    "            sess.run(training_op, feed_dict={X: X_batch, y: y_batch})\n",
    "        loss_val, acc_val = sess.run([loss, accuracy], feed_dict={X: kfold_data_X[1], y: kfold_data_y[1]})\n",
    "        \n",
    "        # 가장 작은 loss 값을 갱신해감. 갱신하면 checks를 0으로\n",
    "        if loss_val < best_loss:\n",
    "            save_path = saver.save(sess, \"./dnn_checkpoints/wdbc.ckpt\")\n",
    "            best_loss = loss_val\n",
    "            checks_without_progress = 0\n",
    "        # loss 값을 더 줄이지 못한채 max 이상 epoch를 돌면 early stopping\n",
    "        else:\n",
    "            checks_without_progress += 1\n",
    "            if checks_without_progress > max_checks_without_progress:\n",
    "                print(\"Early stopping!\")\n",
    "                break\n",
    "        print(\"{}\\tValidation loss: {:.6f}\\tBest loss: {:.6f}\\tAccuracy: {:.2f}%\".format(\n",
    "            epoch, loss_val, best_loss, acc_val * 100))\n",
    "\n",
    "with tf.Session() as sess:\n",
    "    saver.restore(sess, \"./dnn_checkpoints/wdbc.ckpt\")\n",
    "    acc_test = accuracy.eval(feed_dict={X: kfold_data_X[1], y: kfold_data_y[1]})\n",
    "    print(\"Final test accuracy: {:.2f}%\".format(acc_test * 100))"
   ]
  },
  {
   "cell_type": "code",
   "execution_count": null,
   "metadata": {},
   "outputs": [],
   "source": []
  }
 ],
 "metadata": {
  "kernelspec": {
   "display_name": "Python 3",
   "language": "python",
   "name": "python3"
  },
  "language_info": {
   "codemirror_mode": {
    "name": "ipython",
    "version": 3
   },
   "file_extension": ".py",
   "mimetype": "text/x-python",
   "name": "python",
   "nbconvert_exporter": "python",
   "pygments_lexer": "ipython3",
   "version": "3.6.2"
  }
 },
 "nbformat": 4,
 "nbformat_minor": 2
}
