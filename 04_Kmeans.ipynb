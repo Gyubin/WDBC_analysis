{
 "cells": [
  {
   "cell_type": "markdown",
   "metadata": {},
   "source": [
    "# 4. KMeans"
   ]
  },
  {
   "cell_type": "code",
   "execution_count": 1,
   "metadata": {},
   "outputs": [],
   "source": [
    "import numpy as np\n",
    "import matplotlib.pyplot as plt\n",
    "import matplotlib.cm as cm\n",
    "\n",
    "from sklearn.cluster import KMeans\n",
    "from sklearn.metrics import silhouette_samples, silhouette_score\n",
    "\n",
    "from reader import Reader"
   ]
  },
  {
   "cell_type": "markdown",
   "metadata": {},
   "source": [
    "## 4.1 Data"
   ]
  },
  {
   "cell_type": "code",
   "execution_count": 2,
   "metadata": {},
   "outputs": [],
   "source": [
    "my_reader = Reader()\n",
    "X, y, data_id = my_reader.get_entire_data()"
   ]
  },
  {
   "cell_type": "markdown",
   "metadata": {},
   "source": [
    "## 4.2 Silhouette score\n",
    "\n",
    "cluster 개수를 2-10개 설정해서 각각 silhouette score를 측정해본다.\n",
    "\n",
    "- 2개:  0.697264615606\n",
    "- 3개:  0.666020162026\n",
    "- 4개:  0.533461473712\n",
    "- 5개:  0.510229299791\n",
    "- 6개:  0.485792243595\n",
    "- 7개:  0.467624105748\n",
    "- 8개:  0.468245651834\n",
    "- 9개:  0.462138919581\n",
    "- 10개: 0.466726779829"
   ]
  },
  {
   "cell_type": "code",
   "execution_count": 3,
   "metadata": {},
   "outputs": [],
   "source": [
    "range_n_clusters = [2, 3, 4, 5, 6, 7, 8, 9, 10]"
   ]
  },
  {
   "cell_type": "code",
   "execution_count": 4,
   "metadata": {},
   "outputs": [
    {
     "name": "stdout",
     "output_type": "stream",
     "text": [
      "For n_clusters = 2 The average silhouette_score is : 0.697264615606\n",
      "For n_clusters = 3 The average silhouette_score is : 0.666020162026\n",
      "For n_clusters = 4 The average silhouette_score is : 0.533461473712\n",
      "For n_clusters = 5 The average silhouette_score is : 0.510229299791\n",
      "For n_clusters = 6 The average silhouette_score is : 0.485792243595\n",
      "For n_clusters = 7 The average silhouette_score is : 0.467624105748\n",
      "For n_clusters = 8 The average silhouette_score is : 0.468245651834\n",
      "For n_clusters = 9 The average silhouette_score is : 0.462138919581\n",
      "For n_clusters = 10 The average silhouette_score is : 0.466726779829\n"
     ]
    }
   ],
   "source": [
    "for n_clusters in range_n_clusters:\n",
    "    clusterer = KMeans(n_clusters=n_clusters, random_state=10)\n",
    "    cluster_labels = clusterer.fit_predict(X)\n",
    "\n",
    "    silhouette_avg = silhouette_score(X, cluster_labels)\n",
    "    print(\"For n_clusters =\", n_clusters,\n",
    "          \"The average silhouette_score is :\", silhouette_avg)"
   ]
  },
  {
   "cell_type": "markdown",
   "metadata": {},
   "source": [
    "## 4.3 Predict\n",
    "\n",
    "cluster 수가 2개일 때 가장 silhouette score가 높다. 2를 선택해서 predict 해보면 약 85.4%의 accuracy를 보인다."
   ]
  },
  {
   "cell_type": "code",
   "execution_count": 5,
   "metadata": {},
   "outputs": [
    {
     "data": {
      "text/plain": [
       "KMeans(algorithm='auto', copy_x=True, init='k-means++', max_iter=300,\n",
       "    n_clusters=2, n_init=10, n_jobs=1, precompute_distances='auto',\n",
       "    random_state=10, tol=0.0001, verbose=0)"
      ]
     },
     "execution_count": 5,
     "metadata": {},
     "output_type": "execute_result"
    }
   ],
   "source": [
    "final_kmeans_clf = KMeans(n_clusters=2, random_state=10)\n",
    "final_kmeans_clf.fit(X)"
   ]
  },
  {
   "cell_type": "code",
   "execution_count": 6,
   "metadata": {},
   "outputs": [],
   "source": [
    "y_hat = final_kmeans_clf.labels_\n",
    "y_hat[y_hat == 1] = -1\n",
    "y_hat[y_hat == 0] = 1\n",
    "y_hat[y_hat == -1] = 0"
   ]
  },
  {
   "cell_type": "code",
   "execution_count": 7,
   "metadata": {},
   "outputs": [
    {
     "name": "stdout",
     "output_type": "stream",
     "text": [
      "KMeans prediction accuracy: 85.41300527240774%\n"
     ]
    }
   ],
   "source": [
    "acc = np.sum(np.equal(final_kmeans_clf.labels_, y)) / len(X) * 100\n",
    "print('KMeans prediction accuracy: {}%'.format(acc))"
   ]
  },
  {
   "cell_type": "code",
   "execution_count": null,
   "metadata": {},
   "outputs": [],
   "source": []
  }
 ],
 "metadata": {
  "kernelspec": {
   "display_name": "Python 3",
   "language": "python",
   "name": "python3"
  },
  "language_info": {
   "codemirror_mode": {
    "name": "ipython",
    "version": 3
   },
   "file_extension": ".py",
   "mimetype": "text/x-python",
   "name": "python",
   "nbconvert_exporter": "python",
   "pygments_lexer": "ipython3",
   "version": "3.6.2"
  }
 },
 "nbformat": 4,
 "nbformat_minor": 2
}
